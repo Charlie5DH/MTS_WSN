{
 "cells": [
  {
   "cell_type": "code",
   "execution_count": 1,
   "metadata": {},
   "outputs": [],
   "source": [
    "import tensorflow as tf\n",
    "import numpy as np\n",
    "import matplotlib.pyplot as plt\n",
    "from tensorflow.keras.layers import BatchNormalization\n",
    "from tensorflow.keras.layers import Conv2D\n",
    "from tensorflow.keras.layers import Conv2DTranspose\n",
    "from tensorflow.keras.layers import LeakyReLU\n",
    "from tensorflow.keras.layers import Activation\n",
    "from tensorflow.keras.layers import Flatten\n",
    "from tensorflow.keras.layers import Dense\n",
    "from tensorflow.keras.layers import Reshape\n",
    "from tensorflow.keras.layers import Input\n",
    "from tensorflow.keras.models import Model\n",
    "from tensorflow.keras import backend as K\n",
    "import random\n",
    "import pickle\n",
    "import cv2\n",
    "from tensorflow.keras.datasets import mnist\n",
    "from sklearn.model_selection import train_test_split"
   ]
  },
  {
   "cell_type": "code",
   "execution_count": 2,
   "metadata": {},
   "outputs": [],
   "source": [
    "from convautoencoder.convautoencoder import ConvAutoencoder"
   ]
  },
  {
   "cell_type": "code",
   "execution_count": 3,
   "metadata": {},
   "outputs": [],
   "source": [
    "def build_unsupervised_dataset(data, labels, validLabel=1,\n",
    "    anomalyLabel=3, contam=0.01, seed=42):\n",
    "    # grab all indexes of the supplied class label that are *truly*\n",
    "    # that particular label, then grab the indexes of the image\n",
    "    # labels that will serve as our \"anomalies\"\n",
    "    validIdxs = np.where(labels == validLabel)[0]\n",
    "    anomalyIdxs = np.where(labels == anomalyLabel)[0]\n",
    "\n",
    "    # randomly shuffle both sets of indexes\n",
    "    random.shuffle(validIdxs)\n",
    "    random.shuffle(anomalyIdxs)\n",
    "\n",
    "    # compute the total number of anomaly data points to select\n",
    "    i = int(len(validIdxs) * contam)\n",
    "    anomalyIdxs = anomalyIdxs[:i]\n",
    "\n",
    "    # use NumPy array indexing to extract both the valid images and\n",
    "    # \"anomlay\" images\n",
    "    validImages = data[validIdxs]\n",
    "    anomalyImages = data[anomalyIdxs]\n",
    "\n",
    "    # stack the valid images and anomaly images together to form a\n",
    "    # single data matrix and then shuffle the rows\n",
    "    images = np.vstack([validImages, anomalyImages])\n",
    "    np.random.seed(seed)\n",
    "    np.random.shuffle(images)\n",
    "\n",
    "    # return the set of images\n",
    "    return images\n",
    "\n",
    "def visualize_predictions(decoded, gt, samples=10):\n",
    "    # initialize our list of output images\n",
    "    outputs = None\n",
    "\n",
    "    # loop over our number of output samples\n",
    "    for i in range(0, samples):\n",
    "        # grab the original image and reconstructed image\n",
    "        original = (gt[i] * 255).astype(\"uint8\")\n",
    "        recon = (decoded[i] * 255).astype(\"uint8\")\n",
    "\n",
    "        # stack the original and reconstructed image side-by-side\n",
    "        output = np.hstack([original, recon])\n",
    "\n",
    "        # if the outputs array is empty, initialize it as the current\n",
    "        # side-by-side image display\n",
    "        if outputs is None:\n",
    "            outputs = output\n",
    "\n",
    "        # otherwise, vertically stack the outputs\n",
    "        else:\n",
    "            outputs = np.vstack([outputs, output])\n",
    "\n",
    "    # return the output images\n",
    "    return outputs"
   ]
  },
  {
   "cell_type": "code",
   "execution_count": 4,
   "metadata": {},
   "outputs": [],
   "source": [
    "# initialize the number of epochs to train for, initial learning rate,\n",
    "# and batch size\n",
    "EPOCHS = 20\n",
    "INIT_LR = 1e-3\n",
    "BS = 32"
   ]
  },
  {
   "cell_type": "code",
   "execution_count": 5,
   "metadata": {},
   "outputs": [
    {
     "name": "stdout",
     "output_type": "stream",
     "text": [
      "[INFO] loading MNIST dataset...\n",
      "[INFO] creating unsupervised dataset...\n",
      "[INFO] building autoencoder...\n"
     ]
    }
   ],
   "source": [
    "# load the MNIST dataset\n",
    "print(\"[INFO] loading MNIST dataset...\")\n",
    "((trainX, trainY), (testX, testY)) = mnist.load_data()\n",
    "\n",
    "# build our unsupervised dataset of images with a small amount of\n",
    "# contamination (i.e., anomalies) added into it\n",
    "print(\"[INFO] creating unsupervised dataset...\")\n",
    "images = build_unsupervised_dataset(trainX, trainY, validLabel=1,\n",
    "    anomalyLabel=3, contam=0.01)\n",
    "\n",
    "# add a channel dimension to every image in the dataset, then scale\n",
    "# the pixel intensities to the range [0, 1]\n",
    "images = np.expand_dims(images, axis=-1)\n",
    "images = images.astype(\"float32\") / 255.0\n",
    "\n",
    "# construct the training and testing split\n",
    "(trainX, testX) = train_test_split(images, test_size=0.2,\n",
    "    random_state=42)\n",
    "\n",
    "# construct our convolutional autoencoder\n",
    "print(\"[INFO] building autoencoder...\")\n",
    "(encoder, decoder, autoencoder) = ConvAutoencoder.build(28, 28, 1)\n",
    "opt = tf.keras.optimizers.Adam(lr=INIT_LR, decay=INIT_LR / EPOCHS)\n",
    "autoencoder.compile(loss=\"mse\", optimizer=opt)"
   ]
  },
  {
   "cell_type": "code",
   "execution_count": 6,
   "metadata": {
    "scrolled": true
   },
   "outputs": [
    {
     "name": "stdout",
     "output_type": "stream",
     "text": [
      "Epoch 1/20\n",
      "171/171 [==============================] - 10s 55ms/step - loss: 0.0845 - val_loss: 0.0425\n",
      "Epoch 2/20\n",
      "171/171 [==============================] - 9s 55ms/step - loss: 0.0109 - val_loss: 0.0317\n",
      "Epoch 3/20\n",
      "171/171 [==============================] - 9s 54ms/step - loss: 0.0041 - val_loss: 0.0107\n",
      "Epoch 4/20\n",
      "171/171 [==============================] - 11s 65ms/step - loss: 0.0033 - val_loss: 0.0044\n",
      "Epoch 5/20\n",
      "171/171 [==============================] - 12s 68ms/step - loss: 0.0029 - val_loss: 0.0030\n",
      "Epoch 6/20\n",
      "171/171 [==============================] - 12s 73ms/step - loss: 0.0026 - val_loss: 0.0029\n",
      "Epoch 7/20\n",
      "171/171 [==============================] - 11s 67ms/step - loss: 0.0024 - val_loss: 0.0028\n",
      "Epoch 8/20\n",
      "171/171 [==============================] - 12s 68ms/step - loss: 0.0024 - val_loss: 0.0025\n",
      "Epoch 9/20\n",
      "171/171 [==============================] - 12s 71ms/step - loss: 0.0022 - val_loss: 0.0024\n",
      "Epoch 10/20\n",
      "171/171 [==============================] - 11s 64ms/step - loss: 0.0020 - val_loss: 0.0023\n",
      "Epoch 11/20\n",
      "171/171 [==============================] - 12s 69ms/step - loss: 0.0020 - val_loss: 0.0024\n",
      "Epoch 12/20\n",
      "171/171 [==============================] - 12s 72ms/step - loss: 0.0020 - val_loss: 0.0023\n",
      "Epoch 13/20\n",
      "171/171 [==============================] - 11s 66ms/step - loss: 0.0019 - val_loss: 0.0022\n",
      "Epoch 14/20\n",
      "171/171 [==============================] - 13s 77ms/step - loss: 0.0018 - val_loss: 0.0022\n",
      "Epoch 15/20\n",
      "171/171 [==============================] - 14s 80ms/step - loss: 0.0018 - val_loss: 0.0023\n",
      "Epoch 16/20\n",
      "171/171 [==============================] - 14s 80ms/step - loss: 0.0017 - val_loss: 0.0021\n",
      "Epoch 17/20\n",
      "171/171 [==============================] - 13s 78ms/step - loss: 0.0018 - val_loss: 0.0023\n",
      "Epoch 18/20\n",
      "171/171 [==============================] - 13s 79ms/step - loss: 0.0017 - val_loss: 0.0023\n",
      "Epoch 19/20\n",
      "171/171 [==============================] - 13s 75ms/step - loss: 0.0017 - val_loss: 0.0022\n",
      "Epoch 20/20\n",
      "171/171 [==============================] - 11s 65ms/step - loss: 0.0016 - val_loss: 0.0021\n"
     ]
    }
   ],
   "source": [
    "# train the convolutional autoencoder\n",
    "H = autoencoder.fit(\n",
    "    trainX, trainX,\n",
    "    validation_data=(testX, testX),\n",
    "    epochs=EPOCHS,\n",
    "    batch_size=BS)"
   ]
  },
  {
   "cell_type": "code",
   "execution_count": 7,
   "metadata": {},
   "outputs": [
    {
     "name": "stdout",
     "output_type": "stream",
     "text": [
      "[INFO] making predictions...\n"
     ]
    },
    {
     "data": {
      "text/plain": [
       "True"
      ]
     },
     "execution_count": 7,
     "metadata": {},
     "output_type": "execute_result"
    }
   ],
   "source": [
    "# use the convolutional autoencoder to make predictions on the\n",
    "# testing images, construct the visualization, and then save it\n",
    "# to disk\n",
    "print(\"[INFO] making predictions...\")\n",
    "decoded = autoencoder.predict(testX)\n",
    "vis = visualize_predictions(decoded, testX)\n",
    "cv2.imwrite('recon_vis.png', vis)"
   ]
  },
  {
   "cell_type": "code",
   "execution_count": 8,
   "metadata": {},
   "outputs": [
    {
     "data": {
      "image/png": "[encoded data removed]",
      "text/plain": [
       "<Figure size 432x288 with 1 Axes>"
      ]
     },
     "metadata": {},
     "output_type": "display_data"
    }
   ],
   "source": [
    "# construct a plot that plots and saves the training history\n",
    "N = np.arange(0, EPOCHS)\n",
    "plt.style.use(\"ggplot\")\n",
    "plt.figure()\n",
    "plt.plot(N, H.history[\"loss\"], label=\"train_loss\")\n",
    "plt.plot(N, H.history[\"val_loss\"], label=\"val_loss\")\n",
    "plt.title(\"Training Loss\")\n",
    "plt.xlabel(\"Epoch #\")\n",
    "plt.ylabel(\"Loss\")\n",
    "plt.legend(loc=\"lower left\")\n",
    "plt.savefig('plot.png')"
   ]
  },
  {
   "cell_type": "code",
   "execution_count": 9,
   "metadata": {},
   "outputs": [
    {
     "name": "stdout",
     "output_type": "stream",
     "text": [
      "[INFO] mse threshold: 0.05634688958525658\n",
      "[INFO] 1 outliers found\n"
     ]
    }
   ],
   "source": [
    "# make predictions on our image data and initialize our list of\n",
    "# reconstruction errors\n",
    "decoded = autoencoder.predict(images)\n",
    "errors = []\n",
    "\n",
    "# loop over all original images and their corresponding\n",
    "# reconstructions\n",
    "for (image, recon) in zip(images, decoded):\n",
    "    # compute the mean squared error between the ground-truth image\n",
    "    # and the reconstructed image, then add it to our list of errors\n",
    "    mse = np.mean((image - recon) ** 2)\n",
    "    errors.append(mse)\n",
    "\n",
    "# compute the q-th quantile of the errors which serves as our\n",
    "# threshold to identify anomalies -- any data point that our model\n",
    "# reconstructed with > threshold error will be marked as an outlier\n",
    "thresh = np.quantile(errors, 1)\n",
    "idxs = np.where(np.array(errors) >= thresh)[0]\n",
    "print(\"[INFO] mse threshold: {}\".format(thresh))\n",
    "print(\"[INFO] {} outliers found\".format(len(idxs)))\n",
    "\n",
    "# initialize the outputs array\n",
    "outputs = None"
   ]
  },
  {
   "cell_type": "code",
   "execution_count": null,
   "metadata": {},
   "outputs": [],
   "source": [
    "# loop over the indexes of images with a high mean squared error term\n",
    "for i in idxs:\n",
    "    # grab the original image and reconstructed image\n",
    "    original = (images[i] * 255).astype(\"uint8\")\n",
    "    recon = (decoded[i] * 255).astype(\"uint8\")\n",
    "\n",
    "    # stack the original and reconstructed image side-by-side\n",
    "    output = np.hstack([original, recon])\n",
    "\n",
    "    # if the outputs array is empty, initialize it as the current\n",
    "    # side-by-side image display\n",
    "    if outputs is None:\n",
    "        outputs = output\n",
    "\n",
    "    # otherwise, vertically stack the outputs\n",
    "    else:\n",
    "        outputs = np.vstack([outputs, output])\n",
    "\n",
    "# show the output visualization\n",
    "cv2.imshow(\"Output\", outputs)\n",
    "cv2.waitKey(0)"
   ]
  },
  {
   "cell_type": "code",
   "execution_count": null,
   "metadata": {},
   "outputs": [],
   "source": [
    "# serialize the image data to disk\n",
    "print(\"[INFO] saving image data...\")\n",
    "f = open(args[\"dataset\"], \"wb\")\n",
    "f.write(pickle.dumps(images))\n",
    "f.close()\n",
    "\n",
    "# serialize the autoencoder model to disk\n",
    "print(\"[INFO] saving autoencoder...\")\n",
    "autoencoder.save(args[\"model\"], save_format=\"h5\")"
   ]
  },
  {
   "cell_type": "code",
   "execution_count": null,
   "metadata": {},
   "outputs": [],
   "source": []
  },
  {
   "cell_type": "code",
   "execution_count": null,
   "metadata": {},
   "outputs": [],
   "source": []
  },
  {
   "cell_type": "code",
   "execution_count": null,
   "metadata": {},
   "outputs": [],
   "source": []
  }
 ],
 "metadata": {
  "kernelspec": {
   "display_name": "Python 3",
   "language": "python",
   "name": "python3"
  },
  "language_info": {
   "codemirror_mode": {
    "name": "ipython",
    "version": 3
   },
   "file_extension": ".py",
   "mimetype": "text/x-python",
   "name": "python",
   "nbconvert_exporter": "python",
   "pygments_lexer": "ipython3",
   "version": "3.7.4"
  }
 },
 "nbformat": 4,
 "nbformat_minor": 4
}
